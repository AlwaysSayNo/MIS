{
 "cells": [
  {
   "cell_type": "markdown",
   "id": "1830bd17-d647-410d-95bc-6c7a42dcfc2f",
   "metadata": {},
   "source": [
    "# Варіант 9"
   ]
  },
  {
   "cell_type": "markdown",
   "id": "dd058896-58ca-4c99-bdaf-fb76c0e1c39c",
   "metadata": {},
   "source": [
    "### Завдання 4 \n",
    "За допомогою мови Markdown та HTML тегів для країни, відповідно до свого номеру варіанту (див. табл. 3.1), ввести інформацію щодо площини, населення, державного устрою, видатних персоналій, пам’яток культури та природи тощо. При оформленні інформації повинні бути використані: \n",
    "- заголовки різних рівнів;\n",
    "- різні види накреслення символів (курсив, напівжирний тощо);\n",
    "- рамки навколо тексту;\n",
    "- таблиці;\n",
    "- вкладені списки, картинки за допомогою посилань та вбудовані; \n",
    "- гіперпосилання;\n",
    "- за допомогою HTML тery svg нарисувати флаг країни."
   ]
  },
  {
   "cell_type": "code",
   "execution_count": 1,
   "id": "52836161-ebb8-4402-bd9d-f25222919ac6",
   "metadata": {
    "scrolled": true
   },
   "outputs": [
    {
     "data": {
      "text/html": [
       "\n",
       "<h1 style=\"border: 1px solid black; padding: 10px;\"><a href=\"https://uk.wikipedia.org/wiki/%D0%A7%D0%B5%D1%85%D1%96%D1%8F\">Чеська Республіка</a></h1>\n",
       "\n",
       "<ul>\n",
       "      <li><b>Площа</b>: 78 866 км²</li>\n",
       "      <li><u>Населення</u>: 10,7 мільйона (2023)</li>\n",
       "      <li>Державний устрій: парламентська республіка</li>\n",
       "      <li>Столиця: Прага</li>\n",
       "      <li>Офіційна мова: чеська</li>\n",
       "      <li>Валюта: чеська крона</li>\n",
       "      <li>Членство в міжнародних організаціях: \n",
       "            <ul>\n",
       "                <li>ЄС</li>\n",
       "                <li>НАТО</li>\n",
       "                <li>ООН</li>\n",
       "                <li>ОБСЄ</li>\n",
       "            </ul>\n",
       "      </li>\n",
       "      <li>Столиця: Прага</li>\n",
       "</ul>\n",
       "\n",
       "<h2>\n",
       "  <span style=\"color: red;\">Ф</span>\n",
       "  <span style=\"color: orange;\">л</span>\n",
       "  <span style=\"color: yellow;\">а</span>\n",
       "  <span style=\"color: green;\">г</span>\n",
       "  <span style=\"color: blue;\"> </span>\n",
       "  <span style=\"color: indigo;\">Ч</span>\n",
       "  <span style=\"color: violet;\">е</span>\n",
       "  <span style=\"color: red;\">с</span>\n",
       "  <span style=\"color: orange;\">ь</span>\n",
       "  <span style=\"color: yellow;\">к</span>\n",
       "  <span style=\"color: green;\">о</span>\n",
       "  <span style=\"color: blue;\">ї</span>\n",
       "  <span style=\"color: indigo;\"> </span>\n",
       "  <span style=\"color: violet;\">Р</span>\n",
       "  <span style=\"color: red;\">е</span>\n",
       "  <span style=\"color: orange;\">с</span>\n",
       "  <span style=\"color: yellow;\">п</span>\n",
       "  <span style=\"color: green;\">у</span>\n",
       "  <span style=\"color: blue;\">б</span>\n",
       "  <span style=\"color: indigo;\">л</span>\n",
       "  <span style=\"color: violet;\">и</span>\n",
       "  <span style=\"color: red;\">к</span>\n",
       "  <span style=\"color: orange;\">и</span>\n",
       "</h2>\n",
       "\n",
       "<svg viewBox=\"0 0 600 400\" preserveAspectRatio=\"xMidYMid\">\n",
       "    <rect x=\"0\" y=\"0\" width=\"600\" height=\"400\" fill=\"white\" />\n",
       "    <rect x=\"0\" y=\"200\" width=\"600\" height=\"200\" fill=\"red\" />\n",
       "    <polygon points=\"0,0 0,400 250,200\" fill=\"blue\" />\n",
       "</svg>\n"
      ],
      "text/plain": [
       "<IPython.core.display.HTML object>"
      ]
     },
     "metadata": {},
     "output_type": "display_data"
    }
   ],
   "source": [
    "%%HTML\n",
    "\n",
    "<h1 style=\"border: 1px solid black; padding: 10px;\"><a href=\"https://uk.wikipedia.org/wiki/%D0%A7%D0%B5%D1%85%D1%96%D1%8F\">Чеська Республіка</a></h1>\n",
    "\n",
    "<ul>\n",
    "      <li><b>Площа</b>: 78 866 км²</li>\n",
    "      <li><u>Населення</u>: 10,7 мільйона (2023)</li>\n",
    "      <li>Державний устрій: парламентська республіка</li>\n",
    "      <li>Столиця: Прага</li>\n",
    "      <li>Офіційна мова: чеська</li>\n",
    "      <li>Валюта: чеська крона</li>\n",
    "      <li>Членство в міжнародних організаціях: \n",
    "            <ul>\n",
    "                <li>ЄС</li>\n",
    "                <li>НАТО</li>\n",
    "                <li>ООН</li>\n",
    "                <li>ОБСЄ</li>\n",
    "            </ul>\n",
    "      </li>\n",
    "      <li>Столиця: Прага</li>\n",
    "</ul>\n",
    "\n",
    "<h2>\n",
    "  <span style=\"color: red;\">Ф</span>\n",
    "  <span style=\"color: orange;\">л</span>\n",
    "  <span style=\"color: yellow;\">а</span>\n",
    "  <span style=\"color: green;\">г</span>\n",
    "  <span style=\"color: blue;\"> </span>\n",
    "  <span style=\"color: indigo;\">Ч</span>\n",
    "  <span style=\"color: violet;\">е</span>\n",
    "  <span style=\"color: red;\">с</span>\n",
    "  <span style=\"color: orange;\">ь</span>\n",
    "  <span style=\"color: yellow;\">к</span>\n",
    "  <span style=\"color: green;\">о</span>\n",
    "  <span style=\"color: blue;\">ї</span>\n",
    "  <span style=\"color: indigo;\"> </span>\n",
    "  <span style=\"color: violet;\">Р</span>\n",
    "  <span style=\"color: red;\">е</span>\n",
    "  <span style=\"color: orange;\">с</span>\n",
    "  <span style=\"color: yellow;\">п</span>\n",
    "  <span style=\"color: green;\">у</span>\n",
    "  <span style=\"color: blue;\">б</span>\n",
    "  <span style=\"color: indigo;\">л</span>\n",
    "  <span style=\"color: violet;\">и</span>\n",
    "  <span style=\"color: red;\">к</span>\n",
    "  <span style=\"color: orange;\">и</span>\n",
    "</h2>\n",
    "\n",
    "<svg viewBox=\"0 0 600 400\" preserveAspectRatio=\"xMidYMid\">\n",
    "    <rect x=\"0\" y=\"0\" width=\"600\" height=\"400\" fill=\"white\" />\n",
    "    <rect x=\"0\" y=\"200\" width=\"600\" height=\"200\" fill=\"red\" />\n",
    "    <polygon points=\"0,0 0,400 250,200\" fill=\"blue\" />\n",
    "</svg>"
   ]
  },
  {
   "cell_type": "markdown",
   "id": "203d4d96-c246-48a8-a0b7-5824d19dd21d",
   "metadata": {},
   "source": [
    "\r\n",
    "## Чеська Республіка\n",
    "\n",
    " **Властивість** | **Значення** |\r\n",
    "|---|---|\r\n",
    "| **Офіційна назва** | Чеська Республіка |\r\n",
    "| **Столиця** | Прага |\r\n",
    "| **Площа** | 78 866 км² |\r\n",
    "| **Населення** | 10,7 мільйона (2023) |\r\n",
    "| **Державний устрій** | парламентська республіка |\r\n",
    "| **Офіційна мова** | чеська |"
   ]
  },
  {
   "cell_type": "markdown",
   "id": "96292951-378c-4f73-95f9-0ceb8b3d07ed",
   "metadata": {},
   "source": [
    "### Завдання 5\n",
    "Розробити функцію для реалізації алгоритму, відповідно до номеру свого варіанту з табл. 4.2. Для створеної функцій реалізувати 2-3 тестові приклади в комірках ноутбуку. Для всіх варіантів організувати контроль значень, що вводяться. \n",
    "\n",
    "У введеному списку залишити тільки непрості числа, після чого відсортувати їх за зменшенням."
   ]
  },
  {
   "cell_type": "code",
   "execution_count": 2,
   "id": "4ed74aea-bcec-4227-ae6d-387d9ecbe033",
   "metadata": {},
   "outputs": [],
   "source": [
    "def is_prime(n):\n",
    "    if n < 1:\n",
    "        return False\n",
    "    i = 2\n",
    "    while i*i <= n:\n",
    "        if n % i == 0:\n",
    "            return False\n",
    "        i += 1\n",
    "    return True"
   ]
  },
  {
   "cell_type": "code",
   "execution_count": 3,
   "id": "caa39524-f4c8-442c-a52f-ee4e07ff1b4d",
   "metadata": {},
   "outputs": [],
   "source": [
    "def task_9():\n",
    "    str = input(\"Enter array of numbers split by space:\")\n",
    "    str = str.strip()\n",
    "\n",
    "    if not str or str == \"\":\n",
    "        print(\"Error: array is empty\")\n",
    "        return\n",
    "\n",
    "    arr_str = str.split(\" \")\n",
    "    res = []\n",
    "    \n",
    "    for elem in arr_str:\n",
    "        if not elem.isdigit():\n",
    "            print(\"Error: non digit value was passed: \" + elem)\n",
    "            return\n",
    "        \n",
    "        int_elem = int(elem)\n",
    "        \n",
    "        if not is_prime(int_elem) and int_elem > 0: \n",
    "            res.append(int_elem)\n",
    "\n",
    "    res.sort(reverse = True)\n",
    "    return res"
   ]
  },
  {
   "cell_type": "code",
   "execution_count": 4,
   "id": "93ce2aba-9610-46a6-8802-982ac3ee5789",
   "metadata": {},
   "outputs": [
    {
     "name": "stdin",
     "output_type": "stream",
     "text": [
      "Enter array of numbers split by space: 3 12 15 7 11 35 18\n"
     ]
    },
    {
     "data": {
      "text/plain": [
       "[35, 18, 15, 12]"
      ]
     },
     "execution_count": 4,
     "metadata": {},
     "output_type": "execute_result"
    }
   ],
   "source": [
    "task_9()"
   ]
  },
  {
   "cell_type": "code",
   "execution_count": 5,
   "id": "1c58491f-f14f-4d2b-9bf8-dbcfe1d5ca81",
   "metadata": {},
   "outputs": [
    {
     "name": "stdin",
     "output_type": "stream",
     "text": [
      "Enter array of numbers split by space: 0 34 2 1 15 22 4 23 6\n"
     ]
    },
    {
     "data": {
      "text/plain": [
       "[34, 22, 15, 6, 4]"
      ]
     },
     "execution_count": 5,
     "metadata": {},
     "output_type": "execute_result"
    }
   ],
   "source": [
    "task_9()"
   ]
  },
  {
   "cell_type": "code",
   "execution_count": 6,
   "id": "dfc81acd-3d5d-4918-8503-a35f8c381a7a",
   "metadata": {},
   "outputs": [
    {
     "name": "stdin",
     "output_type": "stream",
     "text": [
      "Enter array of numbers split by space: \n"
     ]
    },
    {
     "name": "stdout",
     "output_type": "stream",
     "text": [
      "Error: array is empty\n"
     ]
    }
   ],
   "source": [
    "task_9()"
   ]
  },
  {
   "cell_type": "code",
   "execution_count": 7,
   "id": "2b6acfa2-2f5f-4ca5-a61d-c113f0f6e290",
   "metadata": {},
   "outputs": [
    {
     "name": "stdin",
     "output_type": "stream",
     "text": [
      "Enter array of numbers split by space: 1 2 3 a 4 str\n"
     ]
    },
    {
     "name": "stdout",
     "output_type": "stream",
     "text": [
      "Error: non digit value was passed: a\n"
     ]
    }
   ],
   "source": [
    "task_9()"
   ]
  }
 ],
 "metadata": {
  "kernelspec": {
   "display_name": "Python 3 (ipykernel)",
   "language": "python",
   "name": "python3"
  },
  "language_info": {
   "codemirror_mode": {
    "name": "ipython",
    "version": 3
   },
   "file_extension": ".py",
   "mimetype": "text/x-python",
   "name": "python",
   "nbconvert_exporter": "python",
   "pygments_lexer": "ipython3",
   "version": "3.11.7"
  }
 },
 "nbformat": 4,
 "nbformat_minor": 5
}
