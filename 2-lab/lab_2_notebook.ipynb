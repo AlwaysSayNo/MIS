{
 "cells": [
  {
   "cell_type": "markdown",
   "id": "9d3c9a62-b230-4ee5-a8ee-d9e940ff685a",
   "metadata": {},
   "source": [
    "# Варіант 9"
   ]
  },
  {
   "cell_type": "code",
   "execution_count": 1,
   "id": "d69e10e7-80e7-480c-905f-462f7bbefec3",
   "metadata": {},
   "outputs": [],
   "source": [
    "import numpy as np\n",
    "import random"
   ]
  },
  {
   "cell_type": "markdown",
   "id": "a734aec4-6405-4b65-b446-fdd253bfc85a",
   "metadata": {},
   "source": [
    "## Завдання 1\n",
    "- з використанням універсальних функцій бібліотеки NumPy.\n",
    "- за допомогою ітеративних конструкцій (з використанням\n",
    "циклів, спискових включень тощо).\n",
    "- для обох випадків підрахувати час виконання скрипту та\n",
    "зробити висновки.\n",
    "\n",
    "1, 2, 4, 7, 8, 12, 15, 16, 20"
   ]
  },
  {
   "cell_type": "markdown",
   "id": "99a985be-b196-4199-8cbc-ea2086158c32",
   "metadata": {},
   "source": [
    "### Вправа 1. \n",
    "Вводиться число $n$. Вивести масив розміру $n×n$, в \n",
    "якому по діагоналі йдуть числавід 1 до $n$, а інші числа дорівнюють 0.."
   ]
  },
  {
   "cell_type": "code",
   "execution_count": 2,
   "id": "cc4d3c41-1dcc-47c7-af23-d2146b0a1aae",
   "metadata": {},
   "outputs": [],
   "source": [
    "def task_1a(n):\n",
    "    arr = np.arange(1, n + 1)\n",
    "    return np.diag(arr)\n",
    "\n",
    "\n",
    "def task_1b(n):\n",
    "    arr = []\n",
    "\n",
    "    for i in range(n):\n",
    "        arr.append([0]*n)\n",
    "\n",
    "    for i in range(n):\n",
    "        arr[i][i] = i + 1\n",
    "\n",
    "    return arr"
   ]
  },
  {
   "cell_type": "code",
   "execution_count": 3,
   "id": "4f529de8-3b83-4868-a948-cb72be634f0d",
   "metadata": {},
   "outputs": [
    {
     "name": "stdin",
     "output_type": "stream",
     "text": [
      "Enter n:  4\n"
     ]
    },
    {
     "name": "stdout",
     "output_type": "stream",
     "text": [
      "[[1 0 0 0]\n",
      " [0 2 0 0]\n",
      " [0 0 3 0]\n",
      " [0 0 0 4]]\n",
      "[[1, 0, 0, 0], [0, 2, 0, 0], [0, 0, 3, 0], [0, 0, 0, 4]]\n"
     ]
    }
   ],
   "source": [
    "n = int(input(\"Enter n: \"))\n",
    "\n",
    "res = task_1a(n)\n",
    "print(res)\n",
    "\n",
    "res = task_1b(n)\n",
    "print(res)"
   ]
  },
  {
   "cell_type": "code",
   "execution_count": 4,
   "id": "762c58ac-6b91-4d69-8cba-aa979a5883aa",
   "metadata": {},
   "outputs": [
    {
     "name": "stdout",
     "output_type": "stream",
     "text": [
      "6.36 µs ± 2.42 µs per loop (mean ± std. dev. of 10 runs, 1,000 loops each)\n"
     ]
    }
   ],
   "source": [
    "%%timeit -n 1000 -r 10\n",
    "\n",
    "n = 100\n",
    "\n",
    "task_1a(n)"
   ]
  },
  {
   "cell_type": "code",
   "execution_count": 5,
   "id": "5f81611d-0a33-47f1-9601-75e4b9f23228",
   "metadata": {},
   "outputs": [
    {
     "name": "stdout",
     "output_type": "stream",
     "text": [
      "47.5 µs ± 4.88 µs per loop (mean ± std. dev. of 10 runs, 1,000 loops each)\n"
     ]
    }
   ],
   "source": [
    "%%timeit -n 1000 -r 10\n",
    "\n",
    "n = 100\n",
    "\n",
    "task_1b(n)"
   ]
  },
  {
   "cell_type": "markdown",
   "id": "4bc692fa-4b94-43cf-86c8-161656a7d3fd",
   "metadata": {},
   "source": [
    "### Вправа 2.\n",
    "Вводиться число $n$. Розставити 1 та 0 у шаховому \n",
    "порядку, починаючи з 1 в матриці розміром$ n×$n, використовуюи \r\n",
    "слайсінг."
   ]
  },
  {
   "cell_type": "code",
   "execution_count": 6,
   "id": "302ecb21-1370-4fa4-aaa2-0dbde76e9d0c",
   "metadata": {},
   "outputs": [],
   "source": [
    "def task_2a(n):\n",
    "    board = np.zeros((n, n), dtype=int)\n",
    "    board[::2, ::2] = 1\n",
    "    board[1::2, 1::2] = 1\n",
    "    \n",
    "    return board\n",
    "\n",
    "\n",
    "def task_2b(n):\n",
    "    board = []\n",
    "    \n",
    "    for i in range(n):\n",
    "        row = []\n",
    "        \n",
    "        for j in range(n):\n",
    "          if (i + j) % 2 == 0:\n",
    "            row.append(1)\n",
    "          else:\n",
    "            row.append(0)\n",
    "        \n",
    "        board.append(row)\n",
    "      \n",
    "    return board"
   ]
  },
  {
   "cell_type": "code",
   "execution_count": 7,
   "id": "7b88f5dc-227f-4136-ac10-bb192b66db35",
   "metadata": {},
   "outputs": [
    {
     "name": "stdin",
     "output_type": "stream",
     "text": [
      "Enter n:  4\n"
     ]
    },
    {
     "name": "stdout",
     "output_type": "stream",
     "text": [
      "[[1 0 1 0]\n",
      " [0 1 0 1]\n",
      " [1 0 1 0]\n",
      " [0 1 0 1]]\n",
      "[[1, 0, 1, 0], [0, 1, 0, 1], [1, 0, 1, 0], [0, 1, 0, 1]]\n"
     ]
    }
   ],
   "source": [
    "n = int(input(\"Enter n: \"))\n",
    "\n",
    "res = task_2a(n)\n",
    "print(res)\n",
    "\n",
    "res = task_2b(n)\n",
    "print(res)"
   ]
  },
  {
   "cell_type": "code",
   "execution_count": 8,
   "id": "4547c338-31af-4c42-8a67-2937266b130e",
   "metadata": {},
   "outputs": [
    {
     "name": "stdout",
     "output_type": "stream",
     "text": [
      "6.97 µs ± 1.35 µs per loop (mean ± std. dev. of 10 runs, 1,000 loops each)\n"
     ]
    }
   ],
   "source": [
    "%%timeit -n 1000 -r 10\n",
    "\n",
    "n = 100\n",
    "\n",
    "task_2a(n)"
   ]
  },
  {
   "cell_type": "code",
   "execution_count": 9,
   "id": "af6ffb62-b8d4-4b7d-acee-5825880ba1fd",
   "metadata": {},
   "outputs": [
    {
     "name": "stdout",
     "output_type": "stream",
     "text": [
      "902 µs ± 25.9 µs per loop (mean ± std. dev. of 10 runs, 1,000 loops each)\n"
     ]
    }
   ],
   "source": [
    "%%timeit -n 1000 -r 10\n",
    "\n",
    "n = 100\n",
    "\n",
    "task_2b(n)"
   ]
  },
  {
   "cell_type": "markdown",
   "id": "1c244181-9c57-44dd-8f0c-6cb73924a335",
   "metadata": {},
   "source": [
    "### Вправа 4.\n",
    "Вводяться числа $n$ і $m$. Вивести масив розміру $n×m$, в якому у першому рядку (рядок з нулевим індексом) йдуть числа від 0 до $m–1$, а всі інші елементи матриці дорівнюють 0."
   ]
  },
  {
   "cell_type": "code",
   "execution_count": 10,
   "id": "86d56da5-d3ad-424d-849a-f99fa874f7a8",
   "metadata": {},
   "outputs": [],
   "source": [
    "def task_4a(n, m):\n",
    "    arr = np.zeros((n, m), dtype=int)\n",
    "    arr[0] = np.arange(m)\n",
    "\n",
    "    return arr\n",
    "\n",
    "\n",
    "def task_4b(n, m):\n",
    "    arr = []\n",
    "\n",
    "    for i in range(n):\n",
    "        if i == 0:\n",
    "            arr.append(list(range(m)))\n",
    "        else:\n",
    "            arr.append([0]*m)\n",
    "    \n",
    "    return arr"
   ]
  },
  {
   "cell_type": "code",
   "execution_count": 11,
   "id": "f61003e0-96a1-45e7-b135-a98edd063a50",
   "metadata": {},
   "outputs": [
    {
     "name": "stdin",
     "output_type": "stream",
     "text": [
      "Enter n:  3\n",
      "Enter m:  4\n"
     ]
    },
    {
     "name": "stdout",
     "output_type": "stream",
     "text": [
      "[[0 1 2 3]\n",
      " [0 0 0 0]\n",
      " [0 0 0 0]]\n",
      "[[0, 1, 2, 3], [0, 0, 0, 0], [0, 0, 0, 0]]\n"
     ]
    }
   ],
   "source": [
    "n = int(input(\"Enter n: \"))\n",
    "m = int(input(\"Enter m: \"))\n",
    "\n",
    "res = task_4a(n, m)\n",
    "print(res)\n",
    "\n",
    "res = task_4b(n, m)\n",
    "print(res)"
   ]
  },
  {
   "cell_type": "code",
   "execution_count": 12,
   "id": "d1aaf81d-845f-4e67-9fc7-c870c5e4a7a6",
   "metadata": {},
   "outputs": [
    {
     "name": "stdout",
     "output_type": "stream",
     "text": [
      "3.1 µs ± 648 ns per loop (mean ± std. dev. of 10 runs, 1,000 loops each)\n"
     ]
    }
   ],
   "source": [
    "%%timeit -n 1000 -r 10\n",
    "\n",
    "n = 50\n",
    "m = 100\n",
    "\n",
    "task_4a(n, m)"
   ]
  },
  {
   "cell_type": "code",
   "execution_count": 13,
   "id": "bb13e674-b17c-44e2-a7de-f028fb84cdad",
   "metadata": {},
   "outputs": [
    {
     "name": "stdout",
     "output_type": "stream",
     "text": [
      "20.2 µs ± 2.44 µs per loop (mean ± std. dev. of 10 runs, 1,000 loops each)\n"
     ]
    }
   ],
   "source": [
    "%%timeit -n 1000 -r 10\n",
    "\n",
    "n = 50\n",
    "m = 100\n",
    "\n",
    "task_4b(n, m)"
   ]
  },
  {
   "cell_type": "markdown",
   "id": "78c0bb2b-15c9-4d46-9af8-ef4893fa2833",
   "metadata": {},
   "source": [
    "### Вправа 7.\n",
    "З клавіатури вводиться масив. Замінити всі нульові елементи на –1.."
   ]
  },
  {
   "cell_type": "code",
   "execution_count": 14,
   "id": "0233a59e-d04a-4b9b-b7ee-30375112dc39",
   "metadata": {},
   "outputs": [],
   "source": [
    "def task_7a(arr):\n",
    "    np_arr = np.array(arr)\n",
    "    np_arr[np_arr == 0] = -1\n",
    "\n",
    "    return np_arr\n",
    "\n",
    "\n",
    "def task_7b(arr):\n",
    "    return [elem if elem != 0 else -1 for elem in arr]"
   ]
  },
  {
   "cell_type": "code",
   "execution_count": 15,
   "id": "2067b075-c170-4d87-9a7e-62360f9e0239",
   "metadata": {},
   "outputs": [
    {
     "name": "stdin",
     "output_type": "stream",
     "text": [
      "Enter an array:  3 4 0 9 7 0 6 0 4 0 3\n"
     ]
    },
    {
     "name": "stdout",
     "output_type": "stream",
     "text": [
      "[ 3  4 -1  9  7 -1  6 -1  4 -1  3]\n",
      "[3, 4, -1, 9, 7, -1, 6, -1, 4, -1, 3]\n"
     ]
    }
   ],
   "source": [
    "str_arr = input(\"Enter an array: \").split()\n",
    "arr = list(map(int, str_arr))\n",
    "\n",
    "res = task_7a(arr)\n",
    "print(res)\n",
    "\n",
    "res = task_7b(arr)\n",
    "print(res)"
   ]
  },
  {
   "cell_type": "code",
   "execution_count": 16,
   "id": "08ce663c-0e92-4b13-a0c4-650bf13a9ea3",
   "metadata": {},
   "outputs": [
    {
     "name": "stdout",
     "output_type": "stream",
     "text": [
      "3.23 µs ± 433 ns per loop (mean ± std. dev. of 10 runs, 1,000 loops each)\n"
     ]
    }
   ],
   "source": [
    "%%timeit -n 1000 -r 10\n",
    "\n",
    "arr = [3, 4, 0, 6, 5, 0, 3, 0, 4]\n",
    "\n",
    "task_7a(arr)"
   ]
  },
  {
   "cell_type": "code",
   "execution_count": 17,
   "id": "783af581-ebb0-4098-97c6-8e185b546db9",
   "metadata": {},
   "outputs": [
    {
     "name": "stdout",
     "output_type": "stream",
     "text": [
      "1.18 µs ± 330 ns per loop (mean ± std. dev. of 10 runs, 1,000 loops each)\n"
     ]
    }
   ],
   "source": [
    "%%timeit -n 1000 -r 10\n",
    "\n",
    "arr = [3, 4, 0, 6, 5, 0, 3, 0, 4]\n",
    "\n",
    "task_7b(arr)"
   ]
  },
  {
   "cell_type": "markdown",
   "id": "ec50bf77-4eb8-452e-9693-5538c1ecd61c",
   "metadata": {},
   "source": [
    "### Вправа 8.\n",
    "З клавіатури вводиться масив. Підрахувати в ньому \n",
    "кількість нульових та ненульових елементів."
   ]
  },
  {
   "cell_type": "code",
   "execution_count": 18,
   "id": "e3e104b6-3865-4e1f-98ea-f5812f7bb3c9",
   "metadata": {},
   "outputs": [],
   "source": [
    "def task_8a(arr):\n",
    "    nonzero_count = np.count_nonzero(arr)\n",
    "    zero_cout = len(arr) - nonzero_count\n",
    "\n",
    "    return nonzero_count, zero_cout\n",
    "\n",
    "\n",
    "def task_8b(arr):\n",
    "    nonzero_count = sum(1 for elem in arr if elem != 0)\n",
    "    zero_cout = len(arr) - nonzero_count\n",
    "\n",
    "    return nonzero_count, zero_cout"
   ]
  },
  {
   "cell_type": "code",
   "execution_count": 19,
   "id": "ae953bd4-4f56-4327-a30b-0072676b2966",
   "metadata": {},
   "outputs": [
    {
     "name": "stdin",
     "output_type": "stream",
     "text": [
      "Enter an array:  3 4 0 9 7 0 6 0 4 0 3\n"
     ]
    },
    {
     "name": "stdout",
     "output_type": "stream",
     "text": [
      "Non zeros: 7\n",
      "Zeros: 4\n",
      "Non zeros: 7\n",
      "Zeros: 4\n"
     ]
    }
   ],
   "source": [
    "str_arr = input(\"Enter an array: \").split()\n",
    "arr = list(map(int, str_arr))\n",
    "\n",
    "counts = task_8a(arr)\n",
    "print(f\"Non zeros: {counts[0]}\")\n",
    "print(f\"Zeros: {counts[1]}\")\n",
    "\n",
    "counts = task_8b(arr)\n",
    "print(f\"Non zeros: {counts[0]}\")\n",
    "print(f\"Zeros: {counts[1]}\")"
   ]
  },
  {
   "cell_type": "code",
   "execution_count": 20,
   "id": "9c781036-1d75-460c-8800-5c4fab04206e",
   "metadata": {},
   "outputs": [
    {
     "name": "stdout",
     "output_type": "stream",
     "text": [
      "2.8 µs ± 470 ns per loop (mean ± std. dev. of 10 runs, 1,000 loops each)\n"
     ]
    }
   ],
   "source": [
    "%%timeit -n 1000 -r 10\n",
    "\n",
    "arr = [3, 4, 0, 6, 5, 0, 3, 0, 4]\n",
    "\n",
    "task_8a(arr)"
   ]
  },
  {
   "cell_type": "code",
   "execution_count": 21,
   "id": "5892e023-352e-4fd4-90e0-d565e36485a2",
   "metadata": {},
   "outputs": [
    {
     "name": "stdout",
     "output_type": "stream",
     "text": [
      "1.02 µs ± 178 ns per loop (mean ± std. dev. of 10 runs, 1,000 loops each)\n"
     ]
    }
   ],
   "source": [
    "%%timeit -n 1000 -r 10\n",
    "\n",
    "arr = [3, 4, 0, 6, 5, 0, 3, 0, 4]\n",
    "\n",
    "task_8b(arr)"
   ]
  },
  {
   "cell_type": "markdown",
   "id": "6f2bc9f2-57b6-408e-9671-a2e620ddcdf8",
   "metadata": {},
   "source": [
    "### Вправа 12.\n",
    "Створити масив одиниць розміром $n×n$ та створити в \n",
    "ньому «рамку», що утворюється з 0."
   ]
  },
  {
   "cell_type": "code",
   "execution_count": 22,
   "id": "e819e7d0-e0af-4e8f-93f5-d10eefbf7b69",
   "metadata": {},
   "outputs": [],
   "source": [
    "def task_12a(n):\n",
    "    ones = np.ones((n, n), dtype=int)\n",
    "    ones[::n-1] = 0\n",
    "    ones[::, ::n-1] = 0\n",
    "\n",
    "    return ones\n",
    "\n",
    "\n",
    "def task_12b(n):\n",
    "    ones = []\n",
    "\n",
    "    for i in range(n):\n",
    "        if i == 0 or i == n-1:\n",
    "            ones.append([0]*n)\n",
    "        else:\n",
    "            row = [1]*n\n",
    "            row[0] = 0\n",
    "            row[-1] = 0\n",
    "            ones.append(row)\n",
    "\n",
    "    return ones"
   ]
  },
  {
   "cell_type": "code",
   "execution_count": 23,
   "id": "cb2e036a-7c3a-487f-859e-f8e73ab40e70",
   "metadata": {},
   "outputs": [
    {
     "name": "stdin",
     "output_type": "stream",
     "text": [
      "Enter n:  4\n"
     ]
    },
    {
     "name": "stdout",
     "output_type": "stream",
     "text": [
      "[[0 0 0 0]\n",
      " [0 1 1 0]\n",
      " [0 1 1 0]\n",
      " [0 0 0 0]]\n",
      "[[0, 0, 0, 0], [0, 1, 1, 0], [0, 1, 1, 0], [0, 0, 0, 0]]\n"
     ]
    }
   ],
   "source": [
    "n = int(input(\"Enter n: \"))\n",
    "\n",
    "res = task_12a(n)\n",
    "print(res)\n",
    "\n",
    "res = task_12b(n)\n",
    "print(res)"
   ]
  },
  {
   "cell_type": "code",
   "execution_count": 24,
   "id": "43fb5eae-475c-4d5a-a28c-b8379c696e3e",
   "metadata": {},
   "outputs": [
    {
     "name": "stdout",
     "output_type": "stream",
     "text": [
      "6.05 µs ± 2.3 µs per loop (mean ± std. dev. of 10 runs, 1,000 loops each)\n"
     ]
    }
   ],
   "source": [
    "%%timeit -n 1000 -r 10\n",
    "\n",
    "n = 100\n",
    "\n",
    "task_12a(n)"
   ]
  },
  {
   "cell_type": "code",
   "execution_count": 25,
   "id": "71d1fa46-f696-42d3-aa76-2138c6f81723",
   "metadata": {},
   "outputs": [
    {
     "name": "stdout",
     "output_type": "stream",
     "text": [
      "44.4 µs ± 2.15 µs per loop (mean ± std. dev. of 10 runs, 1,000 loops each)\n"
     ]
    }
   ],
   "source": [
    "%%timeit -n 1000 -r 10\n",
    "\n",
    "n = 100\n",
    "\n",
    "task_12b(n)"
   ]
  },
  {
   "cell_type": "markdown",
   "id": "2c139b83-579b-40cf-b11a-41b520f98fb9",
   "metadata": {},
   "source": [
    "### Вправа 15.\n",
    "Заповнити парні стовпчикі матриці розміром $n×n$ \n",
    "одиницями, а непарні – нулями."
   ]
  },
  {
   "cell_type": "code",
   "execution_count": 26,
   "id": "0e458655-446b-4cca-bb7f-72be4570d0a5",
   "metadata": {},
   "outputs": [],
   "source": [
    "def task_15a(n):\n",
    "    cage = np.zeros((n, n), dtype=int)\n",
    "    cage[::, 1::2] = 1\n",
    "\n",
    "    return cage\n",
    "\n",
    "\n",
    "def task_15b(n):\n",
    "    cage = []\n",
    "    \n",
    "    for i in range(n):\n",
    "        cage.append([elem % 2 for elem in range(n)])\n",
    "        \n",
    "    return cage"
   ]
  },
  {
   "cell_type": "code",
   "execution_count": 27,
   "id": "5e8e9c0f-0003-4e40-8cdf-464de444624f",
   "metadata": {},
   "outputs": [
    {
     "name": "stdin",
     "output_type": "stream",
     "text": [
      "Enter n:  4\n"
     ]
    },
    {
     "name": "stdout",
     "output_type": "stream",
     "text": [
      "[[0 1 0 1]\n",
      " [0 1 0 1]\n",
      " [0 1 0 1]\n",
      " [0 1 0 1]]\n",
      "[[0, 1, 0, 1], [0, 1, 0, 1], [0, 1, 0, 1], [0, 1, 0, 1]]\n"
     ]
    }
   ],
   "source": [
    "n = int(input(\"Enter n: \"))\n",
    "\n",
    "res = task_15a(n)\n",
    "print(res)\n",
    "\n",
    "res = task_15b(n)\n",
    "print(res)"
   ]
  },
  {
   "cell_type": "code",
   "execution_count": 28,
   "id": "3bc50e60-131b-4f84-9857-baced939bd2b",
   "metadata": {},
   "outputs": [
    {
     "name": "stdout",
     "output_type": "stream",
     "text": [
      "5.48 µs ± 1e+03 ns per loop (mean ± std. dev. of 10 runs, 1,000 loops each)\n"
     ]
    }
   ],
   "source": [
    "%%timeit -n 1000 -r 10\n",
    "\n",
    "n = 100\n",
    "\n",
    "task_15a(n)"
   ]
  },
  {
   "cell_type": "code",
   "execution_count": 29,
   "id": "6af10fc9-51f6-480f-9abb-1fb37999db57",
   "metadata": {},
   "outputs": [
    {
     "name": "stdout",
     "output_type": "stream",
     "text": [
      "433 µs ± 10.4 µs per loop (mean ± std. dev. of 10 runs, 1,000 loops each)\n"
     ]
    }
   ],
   "source": [
    "%%timeit -n 1000 -r 10\n",
    "\n",
    "n = 100\n",
    "\n",
    "task_15b(n)"
   ]
  },
  {
   "cell_type": "markdown",
   "id": "bcbb10ac-72c2-4b2c-b6ba-4e8a741aa8fb",
   "metadata": {},
   "source": [
    "### Вправа 16. \n",
    "Заповнити вектор значеннями від 0 до $n$. Всі значення, що більші за $(\\frac{n}{4})$ та менші за $(\\frac{3n}{4})$ замінити нулями.."
   ]
  },
  {
   "cell_type": "code",
   "execution_count": 30,
   "id": "f82898a8-a2a3-4145-ac18-c80efe861d15",
   "metadata": {},
   "outputs": [],
   "source": [
    "def task_16a(n):\n",
    "    arr = np.arange(n + 1)\n",
    "    arr[(n/4 < arr) & (arr < 3*n/4)] = 0\n",
    "    \n",
    "    return arr\n",
    "\n",
    "\n",
    "def task_16b(n):\n",
    "    return [0 if (n/4 < elem and elem < 3*n/4) else elem for elem in range(n + 1)]"
   ]
  },
  {
   "cell_type": "code",
   "execution_count": 31,
   "id": "5f7265f6-83a8-492f-a714-1652f4bfa4d0",
   "metadata": {},
   "outputs": [
    {
     "name": "stdin",
     "output_type": "stream",
     "text": [
      "Enter n:  4\n"
     ]
    },
    {
     "name": "stdout",
     "output_type": "stream",
     "text": [
      "[0 1 0 3 4]\n",
      "[0, 1, 0, 3, 4]\n"
     ]
    }
   ],
   "source": [
    "n = int(input(\"Enter n: \"))\n",
    "\n",
    "res = task_16a(n)\n",
    "print(res)\n",
    "\n",
    "res = task_16b(n)\n",
    "print(res)"
   ]
  },
  {
   "cell_type": "code",
   "execution_count": 32,
   "id": "c07eb3f2-3241-4ba7-9e57-9d60c5e92ac8",
   "metadata": {},
   "outputs": [
    {
     "name": "stdout",
     "output_type": "stream",
     "text": [
      "6.43 µs ± 1.28 µs per loop (mean ± std. dev. of 10 runs, 1,000 loops each)\n"
     ]
    }
   ],
   "source": [
    "%%timeit -n 1000 -r 10\n",
    "\n",
    "n = 100\n",
    "\n",
    "task_16a(n)"
   ]
  },
  {
   "cell_type": "code",
   "execution_count": 33,
   "id": "e8254eca-7bc3-4dba-8155-4aa367ccd851",
   "metadata": {},
   "outputs": [
    {
     "name": "stdout",
     "output_type": "stream",
     "text": [
      "16 µs ± 1.45 µs per loop (mean ± std. dev. of 10 runs, 1,000 loops each)\n"
     ]
    }
   ],
   "source": [
    "%%timeit -n 1000 -r 10\n",
    "\n",
    "n = 100\n",
    "\n",
    "task_16b(n)"
   ]
  },
  {
   "cell_type": "markdown",
   "id": "2f17c655-1dc8-4117-acee-59972f9274df",
   "metadata": {},
   "source": [
    "### Вправа 20.\n",
    "Згенерувати вектор із $n$ випадкових елементів, що лежать в інтервалі (0,1). Замінити максимальний елемент на 0."
   ]
  },
  {
   "cell_type": "code",
   "execution_count": 34,
   "id": "a8697ce4-41b5-4e9a-8b6c-211f748773c7",
   "metadata": {},
   "outputs": [],
   "source": [
    "def task_20a(n):\n",
    "    arr = np.random.random(n)\n",
    "\n",
    "    #print(f\"Initial array: {arr}\")\n",
    "    index = np.argmax(arr)\n",
    "    arr[index] = 0\n",
    "    \n",
    "    #print(f\"Permutated array: {arr}\")\n",
    "\n",
    "    return arr\n",
    "\n",
    "\n",
    "def task_20b(n):\n",
    "    arr = [random.random() for _ in range(n)]\n",
    "\n",
    "    #print(f\"Initial array: {arr}\")\n",
    "    max_value = max(arr)\n",
    "    index = arr.index(max_value)\n",
    "    arr[index] = 0\n",
    "    \n",
    "    #print(f\"Permutated array: {arr}\")\n",
    "\n",
    "    return arr"
   ]
  },
  {
   "cell_type": "code",
   "execution_count": 35,
   "id": "feac23dc-e49c-4ec9-8473-b3067bb33275",
   "metadata": {},
   "outputs": [
    {
     "name": "stdin",
     "output_type": "stream",
     "text": [
      "Enter n:  4\n"
     ]
    },
    {
     "name": "stdout",
     "output_type": "stream",
     "text": [
      "[0.18960585 0.         0.04745223 0.01930974]\n",
      "[0.06814077695302545, 0, 0.5187997596614172, 0.014736100155862686]\n"
     ]
    }
   ],
   "source": [
    "n = int(input(\"Enter n: \"))\n",
    "\n",
    "res = task_20a(n)\n",
    "print(res)\n",
    "\n",
    "res = task_20b(n)\n",
    "print(res)"
   ]
  },
  {
   "cell_type": "code",
   "execution_count": 36,
   "id": "42fa4708-fa09-4fad-bcf3-f078521fbcdf",
   "metadata": {},
   "outputs": [
    {
     "name": "stdout",
     "output_type": "stream",
     "text": [
      "5.07 µs ± 920 ns per loop (mean ± std. dev. of 10 runs, 1,000 loops each)\n"
     ]
    }
   ],
   "source": [
    "%%timeit -n 1000 -r 10\n",
    "\n",
    "n = 100\n",
    "\n",
    "task_20a(n)"
   ]
  },
  {
   "cell_type": "code",
   "execution_count": 37,
   "id": "f94e1537-3bfb-483e-9f7b-0d0e2150ef22",
   "metadata": {},
   "outputs": [
    {
     "name": "stdout",
     "output_type": "stream",
     "text": [
      "12.6 µs ± 2.45 µs per loop (mean ± std. dev. of 10 runs, 1,000 loops each)\n"
     ]
    }
   ],
   "source": [
    "%%timeit -n 1000 -r 10\n",
    "\n",
    "n = 100\n",
    "\n",
    "task_20b(n)"
   ]
  },
  {
   "cell_type": "markdown",
   "id": "67e1fd1e-df2b-41a2-9929-f16df352e502",
   "metadata": {},
   "source": [
    "## Завдання 2\r\n",
    "Розв’язати систему алгебраїчних рівнянь за допомогою\r\n",
    "формул Крамера і виконати перевірку за допомогою:\r\n",
    "- матричного множення;\r\n",
    "- оберненої матриці;\r\n",
    "- функції numpy.linalg.solve().\r\n",
    "Порівняти всі рішення за допомогою функції numpy.allclose()."
   ]
  },
  {
   "cell_type": "code",
   "execution_count": 38,
   "id": "9584642d-e9e4-4139-9c78-52fed175490e",
   "metadata": {},
   "outputs": [],
   "source": [
    "a = [\n",
    "    [1, 2, 1, 1],\n",
    "    [2, 1, 1, 1],\n",
    "    [1, -1, 2, 1],\n",
    "    [1, 1, -1, 3]\n",
    "]\n",
    "\n",
    "b = [8, 5, -1, 10]\n",
    "\n",
    "\n",
    "def my_solution():\n",
    "    res = []\n",
    "    n = len(b)\n",
    "    main_det = np.linalg.det(a)\n",
    "\n",
    "    if main_det == 0:\n",
    "        print(\"Determinant cannot be 0\")\n",
    "        return []\n",
    "    \n",
    "    for i in range(n):\n",
    "        sub_matrix = replace_column(a, b, i)\n",
    "        sub_det = np.linalg.det(sub_matrix)\n",
    "        \n",
    "        res.append(sub_det / main_det)\n",
    "\n",
    "    return res\n",
    "\n",
    "\n",
    "def replace_column(matrix, row, index):\n",
    "    res = np.array(matrix)\n",
    "\n",
    "    for i in range(len(row)):\n",
    "        res[i][index] = row[i]\n",
    "\n",
    "    return res"
   ]
  },
  {
   "cell_type": "code",
   "execution_count": 39,
   "id": "0089570c-0d0d-4b01-beed-2a45d968361e",
   "metadata": {},
   "outputs": [],
   "source": [
    "def check_a():\n",
    "  a_inv = np.linalg.inv(a)\n",
    "  b_inv = np.array(b).reshape(-1, 1)\n",
    "\n",
    "  return np.dot(a_inv, b_inv)\n",
    "\n",
    "def check_b():\n",
    "  return np.linalg.solve(a, b)"
   ]
  },
  {
   "cell_type": "code",
   "execution_count": 40,
   "id": "21b8672c-ae09-4acc-a4e6-2cae31478847",
   "metadata": {},
   "outputs": [
    {
     "name": "stdout",
     "output_type": "stream",
     "text": [
      "[-0.05263157894736862, 2.9473684210526305, -0.1578947368421053, 2.3157894736842115]\n",
      "[[-0.05263158]\n",
      " [ 2.94736842]\n",
      " [-0.15789474]\n",
      " [ 2.31578947]]\n",
      "[-0.05263158  2.94736842 -0.15789474  2.31578947]\n",
      "True\n",
      "True\n",
      "True\n"
     ]
    }
   ],
   "source": [
    "res_my = my_solution()\n",
    "print(res_my)\n",
    "\n",
    "res_a = check_a()\n",
    "print(res_a)\n",
    "\n",
    "res_b = check_b()\n",
    "print(res_b)\n",
    "\n",
    "\n",
    "print(np.allclose(res_my, res_a.reshape(1, len(b))))\n",
    "print(np.allclose(res_my, res_b))\n",
    "print(np.allclose(res_b,  res_a.reshape(1, len(b))))"
   ]
  },
  {
   "cell_type": "markdown",
   "id": "d045f941-b949-438c-82bf-c5fc79748723",
   "metadata": {},
   "source": [
    "## Завдання 3\n",
    "\n",
    "Обчислити значення матричного виразу:\n",
    "- з використанням універсальних функцій бібліотеки NumPy.\n",
    "- за допомогою ітеративних конструкцій (з використанням\n",
    "циклів, спискових включень тощо).\n",
    "- для обох випадків підрахувати час виконання скрипту та зробити висновок.\n",
    "\n",
    "Порівняти всі рішення за допомогою функції numpy.allclose()."
   ]
  },
  {
   "cell_type": "code",
   "execution_count": 41,
   "id": "32458777-8595-49ec-8901-0d66a69cd743",
   "metadata": {},
   "outputs": [],
   "source": [
    "A = np.array([\n",
    "    [1, 4, 2],\n",
    "    [2, 1, -2],\n",
    "    [0, 1, -1]\n",
    "])\n",
    "\n",
    "B = np.array([\n",
    "    [4, 6, -2],\n",
    "    [4, 10, 1],\n",
    "    [2, 4, -5]\n",
    "])\n",
    "\n",
    "def solution_a():\n",
    "    return 2 * A - (A@A + B) @ B\n",
    "\n",
    "\n",
    "def solution_b():\n",
    "    term1 = scalar_product(2, A)\n",
    "    \n",
    "    term2 = matrix_product(A, A)\n",
    "    term3 = matrix_sum(term2, B)\n",
    "\n",
    "    term4 = matrix_product(term3, B)\n",
    "    term5 = scalar_product(-1, term4)\n",
    "    \n",
    "    return matrix_sum(term1, term5)\n",
    "    \n",
    "\n",
    "def matrix_sum(a_matrix, b_matrix):\n",
    "    res = []\n",
    "    n = len(a_matrix[0])\n",
    "\n",
    "    for i in range(n):\n",
    "        row = []\n",
    "        \n",
    "        for j in range(n):\n",
    "            row.append(a_matrix[i][j] + b_matrix[i][j])\n",
    "        res.append(row)\n",
    "\n",
    "    return res\n",
    "\n",
    "\n",
    "def scalar_product(scalar, matrix):\n",
    "    res = []\n",
    "    n = len(matrix[0])\n",
    "    \n",
    "    for i in range(n):\n",
    "        res.append([scalar * elem for elem in matrix[i]])\n",
    "\n",
    "    return res\n",
    "\n",
    "\n",
    "def matrix_product(a_matrix, b_matrix):\n",
    "    res = []\n",
    "    \n",
    "    for i in range(len(a_matrix)):\n",
    "        row = []\n",
    "      \n",
    "        for j in range(len(b_matrix[0])):\n",
    "            element = sum(a_matrix[i][k] * b_matrix[k][j] for k in range(len(a_matrix[0])))\n",
    "            row.append(element)\n",
    "        \n",
    "        res.append(row)\n",
    "\n",
    "    return res"
   ]
  },
  {
   "cell_type": "code",
   "execution_count": 42,
   "id": "d2e9904e-7737-460b-8dec-e94c6344d6b0",
   "metadata": {},
   "outputs": [
    {
     "name": "stdout",
     "output_type": "stream",
     "text": [
      "[[ -94 -190  -36]\n",
      " [-106 -236   20]\n",
      " [ -20  -38  -28]]\n",
      "[[-94, -190, -36], [-106, -236, 20], [-20, -38, -28]]\n",
      "True\n"
     ]
    }
   ],
   "source": [
    "res_a = solution_a()\n",
    "print(res_a)\n",
    "\n",
    "res_b = solution_b()\n",
    "print(res_b)\n",
    "\n",
    "print(np.allclose(res_a, res_b))"
   ]
  },
  {
   "cell_type": "code",
   "execution_count": 43,
   "id": "7264f4dd-db4c-4c6f-99f3-4a2784d1b64c",
   "metadata": {},
   "outputs": [
    {
     "name": "stdout",
     "output_type": "stream",
     "text": [
      "6.12 µs ± 1.7 µs per loop (mean ± std. dev. of 10 runs, 1,000 loops each)\n"
     ]
    }
   ],
   "source": [
    "%%timeit -n 1000 -r 10\n",
    "\n",
    "solution_a()"
   ]
  },
  {
   "cell_type": "code",
   "execution_count": 44,
   "id": "5a44f85f-ea21-45a4-9874-8172ad4dc714",
   "metadata": {},
   "outputs": [
    {
     "name": "stdout",
     "output_type": "stream",
     "text": [
      "54.8 µs ± 2.7 µs per loop (mean ± std. dev. of 10 runs, 1,000 loops each)\n"
     ]
    }
   ],
   "source": [
    "%%timeit -n 1000 -r 10\n",
    "\n",
    "solution_b()"
   ]
  }
 ],
 "metadata": {
  "kernelspec": {
   "display_name": "Python 3 (ipykernel)",
   "language": "python",
   "name": "python3"
  },
  "language_info": {
   "codemirror_mode": {
    "name": "ipython",
    "version": 3
   },
   "file_extension": ".py",
   "mimetype": "text/x-python",
   "name": "python",
   "nbconvert_exporter": "python",
   "pygments_lexer": "ipython3",
   "version": "3.11.7"
  }
 },
 "nbformat": 4,
 "nbformat_minor": 5
}
