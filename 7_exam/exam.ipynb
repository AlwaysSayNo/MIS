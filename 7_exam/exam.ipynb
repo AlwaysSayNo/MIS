{
 "cells": [
  {
   "cell_type": "markdown",
   "source": [
    "## Imports"
   ],
   "metadata": {
    "collapsed": false
   },
   "id": "ead09537f39e291c"
  },
  {
   "cell_type": "code",
   "execution_count": 76,
   "id": "initial_id",
   "metadata": {
    "collapsed": true,
    "ExecuteTime": {
     "end_time": "2024-05-03T07:54:20.276513Z",
     "start_time": "2024-05-03T07:54:20.272162Z"
    }
   },
   "outputs": [],
   "source": [
    "import pandas as pd\n",
    "import os"
   ]
  },
  {
   "cell_type": "markdown",
   "source": [
    "## Setup"
   ],
   "metadata": {
    "collapsed": false
   },
   "id": "55150d114427dacd"
  },
  {
   "cell_type": "code",
   "outputs": [],
   "source": [
    "PROJECT_ROOT_DIR = '.'\n",
    "DATA_ROOT_PATH = os.path.join(PROJECT_ROOT_DIR, \"datasets\", \"students-exam-scores\")\n",
    "\n",
    "def load_data(data_path=DATA_ROOT_PATH):\n",
    "    csv_path = os.path.join(data_path, \"Expanded_data_with_more_features.csv\")\n",
    "    return pd.read_csv(csv_path)"
   ],
   "metadata": {
    "collapsed": false,
    "ExecuteTime": {
     "end_time": "2024-05-03T07:54:20.558608Z",
     "start_time": "2024-05-03T07:54:20.551469Z"
    }
   },
   "id": "94acfb94a8fae93d",
   "execution_count": 77
  },
  {
   "cell_type": "markdown",
   "source": [
    "## Tasks"
   ],
   "metadata": {
    "collapsed": false
   },
   "id": "ec6741e8c77d8f99"
  },
  {
   "cell_type": "code",
   "outputs": [],
   "source": [
    "df = load_data()"
   ],
   "metadata": {
    "collapsed": false,
    "ExecuteTime": {
     "end_time": "2024-05-03T07:54:20.654068Z",
     "start_time": "2024-05-03T07:54:20.583097Z"
    }
   },
   "id": "5dfa5c7828fbab9d",
   "execution_count": 78
  },
  {
   "cell_type": "code",
   "outputs": [
    {
     "data": {
      "text/plain": "   Unnamed: 0  Gender EthnicGroup          ParentEduc     LunchType TestPrep  \\\n0           0  female         NaN   bachelor's degree      standard     none   \n1           1  female     group C        some college      standard      NaN   \n2           2  female     group B     master's degree      standard     none   \n3           3    male     group A  associate's degree  free/reduced     none   \n4           4    male     group C        some college      standard     none   \n\n  ParentMaritalStatus PracticeSport IsFirstChild  NrSiblings TransportMeans  \\\n0             married     regularly          yes         3.0     school_bus   \n1             married     sometimes          yes         0.0            NaN   \n2              single     sometimes          yes         4.0     school_bus   \n3             married         never           no         1.0            NaN   \n4             married     sometimes          yes         0.0     school_bus   \n\n  WklyStudyHours  MathScore  ReadingScore  WritingScore  \n0            < 5         71            71            74  \n1         5 - 10         69            90            88  \n2            < 5         87            93            91  \n3         5 - 10         45            56            42  \n4         5 - 10         76            78            75  ",
      "text/html": "<div>\n<style scoped>\n    .dataframe tbody tr th:only-of-type {\n        vertical-align: middle;\n    }\n\n    .dataframe tbody tr th {\n        vertical-align: top;\n    }\n\n    .dataframe thead th {\n        text-align: right;\n    }\n</style>\n<table border=\"1\" class=\"dataframe\">\n  <thead>\n    <tr style=\"text-align: right;\">\n      <th></th>\n      <th>Unnamed: 0</th>\n      <th>Gender</th>\n      <th>EthnicGroup</th>\n      <th>ParentEduc</th>\n      <th>LunchType</th>\n      <th>TestPrep</th>\n      <th>ParentMaritalStatus</th>\n      <th>PracticeSport</th>\n      <th>IsFirstChild</th>\n      <th>NrSiblings</th>\n      <th>TransportMeans</th>\n      <th>WklyStudyHours</th>\n      <th>MathScore</th>\n      <th>ReadingScore</th>\n      <th>WritingScore</th>\n    </tr>\n  </thead>\n  <tbody>\n    <tr>\n      <th>0</th>\n      <td>0</td>\n      <td>female</td>\n      <td>NaN</td>\n      <td>bachelor's degree</td>\n      <td>standard</td>\n      <td>none</td>\n      <td>married</td>\n      <td>regularly</td>\n      <td>yes</td>\n      <td>3.0</td>\n      <td>school_bus</td>\n      <td>&lt; 5</td>\n      <td>71</td>\n      <td>71</td>\n      <td>74</td>\n    </tr>\n    <tr>\n      <th>1</th>\n      <td>1</td>\n      <td>female</td>\n      <td>group C</td>\n      <td>some college</td>\n      <td>standard</td>\n      <td>NaN</td>\n      <td>married</td>\n      <td>sometimes</td>\n      <td>yes</td>\n      <td>0.0</td>\n      <td>NaN</td>\n      <td>5 - 10</td>\n      <td>69</td>\n      <td>90</td>\n      <td>88</td>\n    </tr>\n    <tr>\n      <th>2</th>\n      <td>2</td>\n      <td>female</td>\n      <td>group B</td>\n      <td>master's degree</td>\n      <td>standard</td>\n      <td>none</td>\n      <td>single</td>\n      <td>sometimes</td>\n      <td>yes</td>\n      <td>4.0</td>\n      <td>school_bus</td>\n      <td>&lt; 5</td>\n      <td>87</td>\n      <td>93</td>\n      <td>91</td>\n    </tr>\n    <tr>\n      <th>3</th>\n      <td>3</td>\n      <td>male</td>\n      <td>group A</td>\n      <td>associate's degree</td>\n      <td>free/reduced</td>\n      <td>none</td>\n      <td>married</td>\n      <td>never</td>\n      <td>no</td>\n      <td>1.0</td>\n      <td>NaN</td>\n      <td>5 - 10</td>\n      <td>45</td>\n      <td>56</td>\n      <td>42</td>\n    </tr>\n    <tr>\n      <th>4</th>\n      <td>4</td>\n      <td>male</td>\n      <td>group C</td>\n      <td>some college</td>\n      <td>standard</td>\n      <td>none</td>\n      <td>married</td>\n      <td>sometimes</td>\n      <td>yes</td>\n      <td>0.0</td>\n      <td>school_bus</td>\n      <td>5 - 10</td>\n      <td>76</td>\n      <td>78</td>\n      <td>75</td>\n    </tr>\n  </tbody>\n</table>\n</div>"
     },
     "execution_count": 79,
     "metadata": {},
     "output_type": "execute_result"
    }
   ],
   "source": [
    "df[:5]"
   ],
   "metadata": {
    "collapsed": false,
    "ExecuteTime": {
     "end_time": "2024-05-03T07:54:20.673686Z",
     "start_time": "2024-05-03T07:54:20.656064Z"
    }
   },
   "id": "d06924e48e1eceb6",
   "execution_count": 79
  },
  {
   "cell_type": "code",
   "outputs": [
    {
     "name": "stdout",
     "output_type": "stream",
     "text": [
      "<class 'pandas.core.frame.DataFrame'>\n",
      "RangeIndex: 30641 entries, 0 to 30640\n",
      "Data columns (total 15 columns):\n",
      " #   Column               Non-Null Count  Dtype  \n",
      "---  ------               --------------  -----  \n",
      " 0   Unnamed: 0           30641 non-null  int64  \n",
      " 1   Gender               30641 non-null  object \n",
      " 2   EthnicGroup          28801 non-null  object \n",
      " 3   ParentEduc           28796 non-null  object \n",
      " 4   LunchType            30641 non-null  object \n",
      " 5   TestPrep             28811 non-null  object \n",
      " 6   ParentMaritalStatus  29451 non-null  object \n",
      " 7   PracticeSport        30010 non-null  object \n",
      " 8   IsFirstChild         29737 non-null  object \n",
      " 9   NrSiblings           29069 non-null  float64\n",
      " 10  TransportMeans       27507 non-null  object \n",
      " 11  WklyStudyHours       29686 non-null  object \n",
      " 12  MathScore            30641 non-null  int64  \n",
      " 13  ReadingScore         30641 non-null  int64  \n",
      " 14  WritingScore         30641 non-null  int64  \n",
      "dtypes: float64(1), int64(4), object(10)\n",
      "memory usage: 3.5+ MB\n"
     ]
    }
   ],
   "source": [
    "df.info()"
   ],
   "metadata": {
    "collapsed": false,
    "ExecuteTime": {
     "end_time": "2024-05-03T07:54:20.712144Z",
     "start_time": "2024-05-03T07:54:20.684603Z"
    }
   },
   "id": "9d04d99b73212c38",
   "execution_count": 80
  },
  {
   "cell_type": "markdown",
   "source": [
    "## Проаналізуйте розподіл за статтю серед учнів."
   ],
   "metadata": {
    "collapsed": false
   },
   "id": "7db76696c16a3e10"
  },
  {
   "cell_type": "markdown",
   "source": [
    "### 1. Скільки студентів і студенток у наборі даних?"
   ],
   "metadata": {
    "collapsed": false
   },
   "id": "5cbce5d4b57f5923"
  },
  {
   "cell_type": "code",
   "outputs": [
    {
     "data": {
      "text/plain": "   Count\nF  15424\nM  15217",
      "text/html": "<div>\n<style scoped>\n    .dataframe tbody tr th:only-of-type {\n        vertical-align: middle;\n    }\n\n    .dataframe tbody tr th {\n        vertical-align: top;\n    }\n\n    .dataframe thead th {\n        text-align: right;\n    }\n</style>\n<table border=\"1\" class=\"dataframe\">\n  <thead>\n    <tr style=\"text-align: right;\">\n      <th></th>\n      <th>Count</th>\n    </tr>\n  </thead>\n  <tbody>\n    <tr>\n      <th>F</th>\n      <td>15424</td>\n    </tr>\n    <tr>\n      <th>M</th>\n      <td>15217</td>\n    </tr>\n  </tbody>\n</table>\n</div>"
     },
     "execution_count": 81,
     "metadata": {},
     "output_type": "execute_result"
    }
   ],
   "source": [
    "f_data = df.loc[df['Gender'] == 'female']\n",
    "f_count = len(f_data)\n",
    "\n",
    "m_data = df.loc[df['Gender'] == 'male']\n",
    "m_count = len(m_data)\n",
    "\n",
    "pd.DataFrame([[f_count], [m_count]],\n",
    "             columns = ['Count'], index = ['F', 'M'])"
   ],
   "metadata": {
    "collapsed": false,
    "ExecuteTime": {
     "end_time": "2024-05-03T07:54:20.797662Z",
     "start_time": "2024-05-03T07:54:20.764406Z"
    }
   },
   "id": "9a903a17e1f0bde",
   "execution_count": 81
  },
  {
   "cell_type": "markdown",
   "source": [
    " ### 2. Який відсоток студентів чоловічої статі в наборі даних?"
   ],
   "metadata": {
    "collapsed": false
   },
   "id": "2ec88c180ceb03bb"
  },
  {
   "cell_type": "code",
   "outputs": [
    {
     "name": "stdout",
     "output_type": "stream",
     "text": [
      "49.66\n"
     ]
    }
   ],
   "source": [
    "total_count = len(df)\n",
    "print(\"%.2f\" % (m_count / total_count * 100))"
   ],
   "metadata": {
    "collapsed": false,
    "ExecuteTime": {
     "end_time": "2024-05-03T07:54:20.947079Z",
     "start_time": "2024-05-03T07:54:20.939509Z"
    }
   },
   "id": "cfc85b3a346fd6b9",
   "execution_count": 82
  },
  {
   "cell_type": "markdown",
   "source": [
    "### 3. Який відсоток студенток у наборі даних?"
   ],
   "metadata": {
    "collapsed": false
   },
   "id": "e96ee985c3266062"
  },
  {
   "cell_type": "code",
   "outputs": [
    {
     "name": "stdout",
     "output_type": "stream",
     "text": [
      "50.34\n"
     ]
    }
   ],
   "source": [
    "print(\"%.2f\" % (f_count / total_count * 100))"
   ],
   "metadata": {
    "collapsed": false,
    "ExecuteTime": {
     "end_time": "2024-05-03T07:54:21.200163Z",
     "start_time": "2024-05-03T07:54:21.195114Z"
    }
   },
   "id": "c78ba332a3b8ab38",
   "execution_count": 83
  },
  {
   "cell_type": "markdown",
   "source": [
    "## Дослідіть зв’язок між етнічною групою та результатами тестів."
   ],
   "metadata": {
    "collapsed": false
   },
   "id": "ccb295c635993f62"
  },
  {
   "cell_type": "markdown",
   "source": [
    "### 4. Яка етнічна група має найвищий середній бал з математики?"
   ],
   "metadata": {
    "collapsed": false
   },
   "id": "45c50b73eae237eb"
  },
  {
   "cell_type": "code",
   "outputs": [
    {
     "data": {
      "text/plain": "EthnicGroup      group E\nMathScore      75.298936\nName: 4, dtype: object"
     },
     "execution_count": 84,
     "metadata": {},
     "output_type": "execute_result"
    }
   ],
   "source": [
    "sel = df.groupby(['EthnicGroup'])['MathScore'].mean().reset_index()\n",
    "sel.loc[sel['MathScore'].idxmax()]"
   ],
   "metadata": {
    "collapsed": false,
    "ExecuteTime": {
     "end_time": "2024-05-03T07:54:21.350879Z",
     "start_time": "2024-05-03T07:54:21.335243Z"
    }
   },
   "id": "66d04934c27ae5d4",
   "execution_count": 84
  },
  {
   "cell_type": "markdown",
   "source": [
    "### 5. Яка етнічна група має найвищий середній бал читання?"
   ],
   "metadata": {
    "collapsed": false
   },
   "id": "7ed3e9c195ac9335"
  },
  {
   "cell_type": "code",
   "outputs": [
    {
     "data": {
      "text/plain": "EthnicGroup       group E\nReadingScore    74.251423\nName: 4, dtype: object"
     },
     "execution_count": 85,
     "metadata": {},
     "output_type": "execute_result"
    }
   ],
   "source": [
    "sel = df.groupby(['EthnicGroup'])['ReadingScore'].mean().reset_index()\n",
    "sel.loc[sel['ReadingScore'].idxmax()]"
   ],
   "metadata": {
    "collapsed": false,
    "ExecuteTime": {
     "end_time": "2024-05-03T07:54:21.471753Z",
     "start_time": "2024-05-03T07:54:21.456215Z"
    }
   },
   "id": "60eb78f319ad4fb8",
   "execution_count": 85
  },
  {
   "cell_type": "markdown",
   "source": [
    "### 6. Яка етнічна група має найвищий середній бал з письма?"
   ],
   "metadata": {
    "collapsed": false
   },
   "id": "57ea7164a8f646ae"
  },
  {
   "cell_type": "code",
   "outputs": [
    {
     "data": {
      "text/plain": "EthnicGroup      group E\nWritingScore    72.67706\nName: 4, dtype: object"
     },
     "execution_count": 86,
     "metadata": {},
     "output_type": "execute_result"
    }
   ],
   "source": [
    "sel = df.groupby(['EthnicGroup'])['WritingScore'].mean().reset_index()\n",
    "sel.loc[sel['WritingScore'].idxmax()]"
   ],
   "metadata": {
    "collapsed": false,
    "ExecuteTime": {
     "end_time": "2024-05-03T07:54:21.709229Z",
     "start_time": "2024-05-03T07:54:21.699365Z"
    }
   },
   "id": "5b145f6da5736109",
   "execution_count": 86
  },
  {
   "cell_type": "markdown",
   "source": [
    "## Дослідіть вплив курсу підготовки до тесту на результати тесту."
   ],
   "metadata": {
    "collapsed": false
   },
   "id": "5e71c9715f55e07e"
  },
  {
   "cell_type": "markdown",
   "source": [
    "### 7. Який середній бал з математики для студентів, які закінчили курс підготовки до тесту?"
   ],
   "metadata": {
    "collapsed": false
   },
   "id": "6fbab63408ba97c1"
  },
  {
   "cell_type": "code",
   "outputs": [
    {
     "data": {
      "text/plain": "array(['none', nan, 'completed'], dtype=object)"
     },
     "execution_count": 87,
     "metadata": {},
     "output_type": "execute_result"
    }
   ],
   "source": [
    "df['TestPrep'].unique()"
   ],
   "metadata": {
    "collapsed": false,
    "ExecuteTime": {
     "end_time": "2024-05-03T07:54:21.768242Z",
     "start_time": "2024-05-03T07:54:21.761302Z"
    }
   },
   "id": "a2c271e053cfba80",
   "execution_count": 87
  },
  {
   "cell_type": "code",
   "outputs": [
    {
     "data": {
      "text/plain": "69.5466599698644"
     },
     "execution_count": 88,
     "metadata": {},
     "output_type": "execute_result"
    }
   ],
   "source": [
    "completed_mean = df[df['TestPrep'] == 'completed']['MathScore'].mean()\n",
    "completed_mean"
   ],
   "metadata": {
    "collapsed": false,
    "ExecuteTime": {
     "end_time": "2024-05-03T07:54:21.894882Z",
     "start_time": "2024-05-03T07:54:21.881051Z"
    }
   },
   "id": "7f1726d07922fa7f",
   "execution_count": 88
  },
  {
   "cell_type": "markdown",
   "source": [
    "### 8. Який середній бал з читання для студентів, які пройшли курс підготовки до тесту?"
   ],
   "metadata": {
    "collapsed": false
   },
   "id": "d5a5b066d35e60ac"
  },
  {
   "cell_type": "code",
   "outputs": [
    {
     "data": {
      "text/plain": "73.73299849321948"
     },
     "execution_count": 89,
     "metadata": {},
     "output_type": "execute_result"
    }
   ],
   "source": [
    "completed_mean = df[df['TestPrep'] == 'completed']['ReadingScore'].mean()\n",
    "completed_mean"
   ],
   "metadata": {
    "collapsed": false,
    "ExecuteTime": {
     "end_time": "2024-05-03T07:54:21.951074Z",
     "start_time": "2024-05-03T07:54:21.936273Z"
    }
   },
   "id": "cdece5fc9307f75c",
   "execution_count": 89
  },
  {
   "cell_type": "markdown",
   "source": [
    "### 9. Який середній бал для студентів, які закінчили курс підготовки до тесту?"
   ],
   "metadata": {
    "collapsed": false
   },
   "id": "37d32024c2da04f1"
  },
  {
   "cell_type": "code",
   "outputs": [
    {
     "name": "stdout",
     "output_type": "stream",
     "text": [
      "72.66\n"
     ]
    }
   ],
   "source": [
    "prepared_students = df[df['TestPrep'] == 'completed']\n",
    "\n",
    "math_avg = prepared_students['MathScore'].mean()\n",
    "reading_avg = prepared_students['ReadingScore'].mean()\n",
    "writing_avg = prepared_students['WritingScore'].mean()\n",
    "total_avg = (math_avg + reading_avg + writing_avg) / 3\n",
    "\n",
    "print(\"%.2f\" % total_avg)"
   ],
   "metadata": {
    "collapsed": false,
    "ExecuteTime": {
     "end_time": "2024-05-03T07:54:22.063610Z",
     "start_time": "2024-05-03T07:54:22.050046Z"
    }
   },
   "id": "891775a8f9623506",
   "execution_count": 90
  },
  {
   "cell_type": "markdown",
   "source": [
    "## Проаналізуйте розподіл батьків(ів) за сімейним станом серед учнів."
   ],
   "metadata": {
    "collapsed": false
   },
   "id": "7b3d9f6855db3ccf"
  },
  {
   "cell_type": "markdown",
   "source": [
    "### 10. Скільки студентів мають одружених батьків?"
   ],
   "metadata": {
    "collapsed": false
   },
   "id": "cf63d1879ebb8536"
  },
  {
   "cell_type": "code",
   "outputs": [
    {
     "data": {
      "text/plain": "16844"
     },
     "execution_count": 91,
     "metadata": {},
     "output_type": "execute_result"
    }
   ],
   "source": [
    "len(df[df['ParentMaritalStatus'] == 'married'])"
   ],
   "metadata": {
    "collapsed": false,
    "ExecuteTime": {
     "end_time": "2024-05-03T07:54:22.118668Z",
     "start_time": "2024-05-03T07:54:22.104126Z"
    }
   },
   "id": "f100c73ce529275a",
   "execution_count": 91
  },
  {
   "cell_type": "markdown",
   "source": [
    "### 11. Скільки студентів мають батьків-одинаків?"
   ],
   "metadata": {
    "collapsed": false
   },
   "id": "b0797bc861f9417b"
  },
  {
   "cell_type": "code",
   "outputs": [
    {
     "data": {
      "text/plain": "7097"
     },
     "execution_count": 92,
     "metadata": {},
     "output_type": "execute_result"
    }
   ],
   "source": [
    "len(df[df['ParentMaritalStatus'] == 'single'])"
   ],
   "metadata": {
    "collapsed": false,
    "ExecuteTime": {
     "end_time": "2024-05-03T07:54:22.254038Z",
     "start_time": "2024-05-03T07:54:22.244180Z"
    }
   },
   "id": "74ca81010158af8d",
   "execution_count": 92
  },
  {
   "cell_type": "markdown",
   "source": [
    "## Дослідіть зв’язок між заняттями спортом і результатами тестів."
   ],
   "metadata": {
    "collapsed": false
   },
   "id": "bedab2e396c6ffbe"
  },
  {
   "cell_type": "markdown",
   "source": [
    "### 12. Чи студенти, які регулярно займаються спортом, мають вищі середні результати з математики, ніж ті, хто ніколи не займається спортом?"
   ],
   "metadata": {
    "collapsed": false
   },
   "id": "c3351371f7ef723a"
  },
  {
   "cell_type": "code",
   "outputs": [
    {
     "name": "stdout",
     "output_type": "stream",
     "text": [
      "Чи студенти, які регулярно займаються спортом, мають вищі середні результати з математики, ніж ті, хто ніколи не займається спортом: True\n"
     ]
    }
   ],
   "source": [
    "sports_regularly = df[df['PracticeSport'] == 'regularly']\n",
    "no_sports = df[df['PracticeSport'] == 'never']\n",
    "\n",
    "math_avg_sports = sports_regularly['MathScore'].mean()\n",
    "math_avg_no_sports = no_sports['MathScore'].mean()\n",
    "\n",
    "print(f\"Чи студенти, які регулярно займаються спортом, мають вищі середні результати з математики, ніж ті, хто ніколи не займається спортом: {math_avg_sports > math_avg_no_sports}\")"
   ],
   "metadata": {
    "collapsed": false,
    "ExecuteTime": {
     "end_time": "2024-05-03T07:57:11.959193Z",
     "start_time": "2024-05-03T07:57:11.940470Z"
    }
   },
   "id": "d072e01f9f15cc1d",
   "execution_count": 94
  },
  {
   "cell_type": "markdown",
   "source": [
    "### 13. Чи студенти, які регулярно займаються спортом, мають вищі середні результати читання, ніж ті, хто ніколи не займається спортом?"
   ],
   "metadata": {
    "collapsed": false
   },
   "id": "f143e1849a3c218f"
  },
  {
   "cell_type": "code",
   "outputs": [
    {
     "name": "stdout",
     "output_type": "stream",
     "text": [
      "Чи студенти, які регулярно займаються спортом, мають вищі середні результати читання, ніж ті, хто ніколи не займається спортом: True\n"
     ]
    }
   ],
   "source": [
    "reading_avg_sports = sports_regularly['ReadingScore'].mean()\n",
    "reading_avg_no_sports = no_sports['ReadingScore'].mean()\n",
    "\n",
    "print(f\"Чи студенти, які регулярно займаються спортом, мають вищі середні результати читання, ніж ті, хто ніколи не займається спортом: {reading_avg_sports > reading_avg_no_sports}\")"
   ],
   "metadata": {
    "collapsed": false,
    "ExecuteTime": {
     "end_time": "2024-05-03T07:59:00.113620Z",
     "start_time": "2024-05-03T07:59:00.106618Z"
    }
   },
   "id": "5c7099534fcf6663",
   "execution_count": 95
  },
  {
   "cell_type": "markdown",
   "source": [
    "## Проаналізуйте розподіл транспортних засобів до школи серед учнів."
   ],
   "metadata": {
    "collapsed": false
   },
   "id": "3efa87df1695a33d"
  },
  {
   "cell_type": "markdown",
   "source": [
    "### 14. Скільки учнів користується шкільним автобусом, щоб дістатися до школи?"
   ],
   "metadata": {
    "collapsed": false
   },
   "id": "5c85db4a86d36f80"
  },
  {
   "cell_type": "code",
   "outputs": [
    {
     "data": {
      "text/plain": "16145"
     },
     "execution_count": 96,
     "metadata": {},
     "output_type": "execute_result"
    }
   ],
   "source": [
    "school_bus_users_count = df[df['TransportMeans'] == 'school_bus'].shape[0]\n",
    "school_bus_users_count"
   ],
   "metadata": {
    "collapsed": false,
    "ExecuteTime": {
     "end_time": "2024-05-03T08:01:32.519131Z",
     "start_time": "2024-05-03T08:01:32.492516Z"
    }
   },
   "id": "a1c8618106d4b79e",
   "execution_count": 96
  },
  {
   "cell_type": "markdown",
   "source": [
    "### 15. Скільки учнів користується приватним транспортом, щоб дістатися до школи?"
   ],
   "metadata": {
    "collapsed": false
   },
   "id": "596c6a326b0b6c60"
  },
  {
   "cell_type": "code",
   "outputs": [
    {
     "data": {
      "text/plain": "11362"
     },
     "execution_count": 97,
     "metadata": {},
     "output_type": "execute_result"
    }
   ],
   "source": [
    "private_transport_users_count = df[df['TransportMeans'] == 'private'].shape[0]\n",
    "private_transport_users_count"
   ],
   "metadata": {
    "collapsed": false,
    "ExecuteTime": {
     "end_time": "2024-05-03T08:02:51.351764Z",
     "start_time": "2024-05-03T08:02:51.335765Z"
    }
   },
   "id": "f8cbba8f342a5f0c",
   "execution_count": 97
  },
  {
   "cell_type": "markdown",
   "source": [
    "# Задача класифікації 5 балів"
   ],
   "metadata": {
    "collapsed": false
   },
   "id": "255b96749843c3df"
  },
  {
   "cell_type": "markdown",
   "source": [
    "### Передбачте, чи завершив студент курс підготовки до іспиту, на основі його демографічних та академічних даних."
   ],
   "metadata": {
    "collapsed": false
   },
   "id": "463988b1616419aa"
  },
  {
   "cell_type": "code",
   "outputs": [],
   "source": [
    "from sklearn.model_selection import train_test_split\n",
    "from sklearn.preprocessing import LabelEncoder\n",
    "from sklearn.ensemble import RandomForestClassifier\n",
    "\n",
    "le = LabelEncoder()\n",
    "df = df.apply(le.fit_transform)\n",
    "\n",
    "features = df[['Gender', 'EthnicGroup', 'ParentEduc', 'LunchType', 'ParentMaritalStatus', 'PracticeSport', 'IsFirstChild', 'NrSiblings', 'TransportMeans', 'WklyStudyHours', 'MathScore', 'ReadingScore', 'WritingScore']]\n",
    "target = df['TestPrep']\n",
    "\n",
    "X_train, X_test, y_train, y_test = train_test_split(features, target, test_size=0.2, random_state=42)"
   ],
   "metadata": {
    "collapsed": false,
    "ExecuteTime": {
     "end_time": "2024-05-03T08:06:28.133401Z",
     "start_time": "2024-05-03T08:06:23.855434Z"
    }
   },
   "id": "33d575ccff7de86e",
   "execution_count": 98
  },
  {
   "cell_type": "code",
   "outputs": [
    {
     "data": {
      "text/plain": "RandomForestClassifier(random_state=42)",
      "text/html": "<style>#sk-container-id-1 {color: black;background-color: white;}#sk-container-id-1 pre{padding: 0;}#sk-container-id-1 div.sk-toggleable {background-color: white;}#sk-container-id-1 label.sk-toggleable__label {cursor: pointer;display: block;width: 100%;margin-bottom: 0;padding: 0.3em;box-sizing: border-box;text-align: center;}#sk-container-id-1 label.sk-toggleable__label-arrow:before {content: \"▸\";float: left;margin-right: 0.25em;color: #696969;}#sk-container-id-1 label.sk-toggleable__label-arrow:hover:before {color: black;}#sk-container-id-1 div.sk-estimator:hover label.sk-toggleable__label-arrow:before {color: black;}#sk-container-id-1 div.sk-toggleable__content {max-height: 0;max-width: 0;overflow: hidden;text-align: left;background-color: #f0f8ff;}#sk-container-id-1 div.sk-toggleable__content pre {margin: 0.2em;color: black;border-radius: 0.25em;background-color: #f0f8ff;}#sk-container-id-1 input.sk-toggleable__control:checked~div.sk-toggleable__content {max-height: 200px;max-width: 100%;overflow: auto;}#sk-container-id-1 input.sk-toggleable__control:checked~label.sk-toggleable__label-arrow:before {content: \"▾\";}#sk-container-id-1 div.sk-estimator input.sk-toggleable__control:checked~label.sk-toggleable__label {background-color: #d4ebff;}#sk-container-id-1 div.sk-label input.sk-toggleable__control:checked~label.sk-toggleable__label {background-color: #d4ebff;}#sk-container-id-1 input.sk-hidden--visually {border: 0;clip: rect(1px 1px 1px 1px);clip: rect(1px, 1px, 1px, 1px);height: 1px;margin: -1px;overflow: hidden;padding: 0;position: absolute;width: 1px;}#sk-container-id-1 div.sk-estimator {font-family: monospace;background-color: #f0f8ff;border: 1px dotted black;border-radius: 0.25em;box-sizing: border-box;margin-bottom: 0.5em;}#sk-container-id-1 div.sk-estimator:hover {background-color: #d4ebff;}#sk-container-id-1 div.sk-parallel-item::after {content: \"\";width: 100%;border-bottom: 1px solid gray;flex-grow: 1;}#sk-container-id-1 div.sk-label:hover label.sk-toggleable__label {background-color: #d4ebff;}#sk-container-id-1 div.sk-serial::before {content: \"\";position: absolute;border-left: 1px solid gray;box-sizing: border-box;top: 0;bottom: 0;left: 50%;z-index: 0;}#sk-container-id-1 div.sk-serial {display: flex;flex-direction: column;align-items: center;background-color: white;padding-right: 0.2em;padding-left: 0.2em;position: relative;}#sk-container-id-1 div.sk-item {position: relative;z-index: 1;}#sk-container-id-1 div.sk-parallel {display: flex;align-items: stretch;justify-content: center;background-color: white;position: relative;}#sk-container-id-1 div.sk-item::before, #sk-container-id-1 div.sk-parallel-item::before {content: \"\";position: absolute;border-left: 1px solid gray;box-sizing: border-box;top: 0;bottom: 0;left: 50%;z-index: -1;}#sk-container-id-1 div.sk-parallel-item {display: flex;flex-direction: column;z-index: 1;position: relative;background-color: white;}#sk-container-id-1 div.sk-parallel-item:first-child::after {align-self: flex-end;width: 50%;}#sk-container-id-1 div.sk-parallel-item:last-child::after {align-self: flex-start;width: 50%;}#sk-container-id-1 div.sk-parallel-item:only-child::after {width: 0;}#sk-container-id-1 div.sk-dashed-wrapped {border: 1px dashed gray;margin: 0 0.4em 0.5em 0.4em;box-sizing: border-box;padding-bottom: 0.4em;background-color: white;}#sk-container-id-1 div.sk-label label {font-family: monospace;font-weight: bold;display: inline-block;line-height: 1.2em;}#sk-container-id-1 div.sk-label-container {text-align: center;}#sk-container-id-1 div.sk-container {/* jupyter's `normalize.less` sets `[hidden] { display: none; }` but bootstrap.min.css set `[hidden] { display: none !important; }` so we also need the `!important` here to be able to override the default hidden behavior on the sphinx rendered scikit-learn.org. See: https://github.com/scikit-learn/scikit-learn/issues/21755 */display: inline-block !important;position: relative;}#sk-container-id-1 div.sk-text-repr-fallback {display: none;}</style><div id=\"sk-container-id-1\" class=\"sk-top-container\"><div class=\"sk-text-repr-fallback\"><pre>RandomForestClassifier(random_state=42)</pre><b>In a Jupyter environment, please rerun this cell to show the HTML representation or trust the notebook. <br />On GitHub, the HTML representation is unable to render, please try loading this page with nbviewer.org.</b></div><div class=\"sk-container\" hidden><div class=\"sk-item\"><div class=\"sk-estimator sk-toggleable\"><input class=\"sk-toggleable__control sk-hidden--visually\" id=\"sk-estimator-id-1\" type=\"checkbox\" checked><label for=\"sk-estimator-id-1\" class=\"sk-toggleable__label sk-toggleable__label-arrow\">RandomForestClassifier</label><div class=\"sk-toggleable__content\"><pre>RandomForestClassifier(random_state=42)</pre></div></div></div></div></div>"
     },
     "execution_count": 99,
     "metadata": {},
     "output_type": "execute_result"
    }
   ],
   "source": [
    "model = RandomForestClassifier(n_estimators=100, random_state=42)\n",
    "\n",
    "# Train the model\n",
    "model.fit(X_train, y_train)"
   ],
   "metadata": {
    "collapsed": false,
    "ExecuteTime": {
     "end_time": "2024-05-03T08:06:32.013972Z",
     "start_time": "2024-05-03T08:06:28.141383Z"
    }
   },
   "id": "2b0da2b26aa9162d",
   "execution_count": 99
  },
  {
   "cell_type": "code",
   "outputs": [
    {
     "name": "stdout",
     "output_type": "stream",
     "text": [
      "0.6878773046173927\n"
     ]
    }
   ],
   "source": [
    "print(model.score(X_test, y_test))"
   ],
   "metadata": {
    "collapsed": false,
    "ExecuteTime": {
     "end_time": "2024-05-03T08:06:39.133254Z",
     "start_time": "2024-05-03T08:06:38.324275Z"
    }
   },
   "id": "6f389903632bb9a2",
   "execution_count": 100
  }
 ],
 "metadata": {
  "kernelspec": {
   "display_name": "Python 3",
   "language": "python",
   "name": "python3"
  },
  "language_info": {
   "codemirror_mode": {
    "name": "ipython",
    "version": 2
   },
   "file_extension": ".py",
   "mimetype": "text/x-python",
   "name": "python",
   "nbconvert_exporter": "python",
   "pygments_lexer": "ipython2",
   "version": "2.7.6"
  }
 },
 "nbformat": 4,
 "nbformat_minor": 5
}
